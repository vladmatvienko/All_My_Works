{
  "nbformat": 4,
  "nbformat_minor": 0,
  "metadata": {
    "colab": {
      "provenance": [],
      "gpuType": "T4"
    },
    "kernelspec": {
      "name": "python3",
      "display_name": "Python 3"
    },
    "language_info": {
      "name": "python"
    },
    "accelerator": "GPU"
  },
  "cells": [
    {
      "cell_type": "markdown",
      "source": [
        "# Задание\n",
        "1. Реализайте архитектуру GAN на датасете FashionMNIST, где генератор будет написан на архитектуре сверточной сети\n",
        "2. Реализуйте архитектуру сверточной нейронной сети, которая будет обучена на датасете FashionMNIST, для классификации ваших сгенерированных изображений\n",
        "3. Прокомментировать цикл обучения (дать комментарии кода процесса обучения)"
      ],
      "metadata": {
        "id": "qHG5dCl9uXzB"
      }
    },
    {
      "cell_type": "markdown",
      "source": [
        "# Оценка будет снижена, если\n",
        "1) Архитектура генератора написана без использование сверточных слоев\n",
        "2) Обучение модели написано не для GPU\n",
        "3) Нет никаких комментариев в работе"
      ],
      "metadata": {
        "id": "sVWBvvLoukjz"
      }
    },
    {
      "cell_type": "code",
      "execution_count": 1,
      "metadata": {
        "id": "v24Wk9n1yfXd"
      },
      "outputs": [],
      "source": [
        "import torchvision\n",
        "import torchvision.transforms as transforms\n",
        "import torch\n",
        "import matplotlib.pyplot as plt\n",
        "from torch import nn"
      ]
    },
    {
      "cell_type": "code",
      "source": [
        "torch.manual_seed(123)"
      ],
      "metadata": {
        "colab": {
          "base_uri": "https://localhost:8080/"
        },
        "id": "ggH0OK5bzt_V",
        "outputId": "207dbb5d-a00c-4ac6-f6ff-45841c168312"
      },
      "execution_count": 2,
      "outputs": [
        {
          "output_type": "execute_result",
          "data": {
            "text/plain": [
              "<torch._C.Generator at 0x7b2352c47f70>"
            ]
          },
          "metadata": {},
          "execution_count": 2
        }
      ]
    },
    {
      "cell_type": "code",
      "source": [
        "transform = transforms.Compose([transforms.ToTensor(), transforms.Normalize((0.5,),(0.5,))])"
      ],
      "metadata": {
        "id": "TjdfpuGCz6-8"
      },
      "execution_count": 3,
      "outputs": []
    },
    {
      "cell_type": "code",
      "source": [
        "train_set = torchvision.datasets.FashionMNIST(root='./', download = True, train =True, transform = transform)"
      ],
      "metadata": {
        "colab": {
          "base_uri": "https://localhost:8080/"
        },
        "id": "s4wNLOvK0OOF",
        "outputId": "9d0cc9e4-73cf-4e44-cc4a-246525fc02b4"
      },
      "execution_count": 4,
      "outputs": [
        {
          "output_type": "stream",
          "name": "stdout",
          "text": [
            "Downloading http://fashion-mnist.s3-website.eu-central-1.amazonaws.com/train-images-idx3-ubyte.gz\n",
            "Downloading http://fashion-mnist.s3-website.eu-central-1.amazonaws.com/train-images-idx3-ubyte.gz to ./FashionMNIST/raw/train-images-idx3-ubyte.gz\n"
          ]
        },
        {
          "output_type": "stream",
          "name": "stderr",
          "text": [
            "100%|██████████| 26.4M/26.4M [00:02<00:00, 9.70MB/s]\n"
          ]
        },
        {
          "output_type": "stream",
          "name": "stdout",
          "text": [
            "Extracting ./FashionMNIST/raw/train-images-idx3-ubyte.gz to ./FashionMNIST/raw\n",
            "\n",
            "Downloading http://fashion-mnist.s3-website.eu-central-1.amazonaws.com/train-labels-idx1-ubyte.gz\n",
            "Downloading http://fashion-mnist.s3-website.eu-central-1.amazonaws.com/train-labels-idx1-ubyte.gz to ./FashionMNIST/raw/train-labels-idx1-ubyte.gz\n"
          ]
        },
        {
          "output_type": "stream",
          "name": "stderr",
          "text": [
            "100%|██████████| 29.5k/29.5k [00:00<00:00, 211kB/s]\n"
          ]
        },
        {
          "output_type": "stream",
          "name": "stdout",
          "text": [
            "Extracting ./FashionMNIST/raw/train-labels-idx1-ubyte.gz to ./FashionMNIST/raw\n",
            "\n",
            "Downloading http://fashion-mnist.s3-website.eu-central-1.amazonaws.com/t10k-images-idx3-ubyte.gz\n",
            "Downloading http://fashion-mnist.s3-website.eu-central-1.amazonaws.com/t10k-images-idx3-ubyte.gz to ./FashionMNIST/raw/t10k-images-idx3-ubyte.gz\n"
          ]
        },
        {
          "output_type": "stream",
          "name": "stderr",
          "text": [
            "100%|██████████| 4.42M/4.42M [00:01<00:00, 3.94MB/s]\n"
          ]
        },
        {
          "output_type": "stream",
          "name": "stdout",
          "text": [
            "Extracting ./FashionMNIST/raw/t10k-images-idx3-ubyte.gz to ./FashionMNIST/raw\n",
            "\n",
            "Downloading http://fashion-mnist.s3-website.eu-central-1.amazonaws.com/t10k-labels-idx1-ubyte.gz\n",
            "Downloading http://fashion-mnist.s3-website.eu-central-1.amazonaws.com/t10k-labels-idx1-ubyte.gz to ./FashionMNIST/raw/t10k-labels-idx1-ubyte.gz\n"
          ]
        },
        {
          "output_type": "stream",
          "name": "stderr",
          "text": [
            "100%|██████████| 5.15k/5.15k [00:00<00:00, 6.20MB/s]"
          ]
        },
        {
          "output_type": "stream",
          "name": "stdout",
          "text": [
            "Extracting ./FashionMNIST/raw/t10k-labels-idx1-ubyte.gz to ./FashionMNIST/raw\n",
            "\n"
          ]
        },
        {
          "output_type": "stream",
          "name": "stderr",
          "text": [
            "\n"
          ]
        }
      ]
    },
    {
      "cell_type": "code",
      "source": [
        "batch_size = 128\n",
        "train_loader = torch.utils.data.DataLoader(train_set,batch_size = batch_size, shuffle = True)"
      ],
      "metadata": {
        "id": "d7MMHtzj0hDi"
      },
      "execution_count": 5,
      "outputs": []
    },
    {
      "cell_type": "code",
      "source": [
        "real_samples, labels = next(iter(train_loader))\n",
        "\n",
        "for i in range(4):\n",
        "  ax = plt.subplot(4,4,i+1)\n",
        "  plt.imshow(real_samples[i].reshape(28,28), cmap = 'gray_r')"
      ],
      "metadata": {
        "colab": {
          "base_uri": "https://localhost:8080/",
          "height": 145
        },
        "id": "mJJKuV501CRH",
        "outputId": "9db16163-eff5-4086-eb4d-a0ec235ab5fb"
      },
      "execution_count": 6,
      "outputs": [
        {
          "output_type": "display_data",
          "data": {
            "text/plain": [
              "<Figure size 640x480 with 4 Axes>"
            ],
            "image/png": "[encoded data removed]"
          },
          "metadata": {}
        }
      ]
    },
    {
      "cell_type": "code",
      "source": [
        "class D(nn.Module):\n",
        "  def __init__(self):\n",
        "        super().__init__()\n",
        "        self.model = nn.Sequential(\n",
        "\n",
        "            # Первый свёрточный слой: 1 -> 64 канала\n",
        "            nn.Conv2d(1, 64, kernel_size=4, stride=2, padding=1),\n",
        "            nn.LeakyReLU(0.2, inplace=True),\n",
        "\n",
        "            # Второй свёрточный слой: 64 -> 128 канала\n",
        "            nn.Conv2d(64, 128, kernel_size=4, stride=2, padding=1),\n",
        "            nn.BatchNorm2d(128),\n",
        "            nn.LeakyReLU(0.2, inplace=True),\n",
        "\n",
        "            # Третий свёрточный слой: 128 -> 256 канала\n",
        "            nn.Conv2d(128, 256, kernel_size=4, stride=2, padding=1),\n",
        "            nn.BatchNorm2d(256),\n",
        "            nn.LeakyReLU(0.2, inplace=True),\n",
        "\n",
        "            # Преобразование в вектор и классификация\n",
        "            nn.Flatten(),\n",
        "            nn.Linear(256 * 3 * 3, 1),\n",
        "            nn.Sigmoid()\n",
        "\n",
        "        )\n",
        "\n",
        "  def forward(self, x):\n",
        "      return self.model(x)"
      ],
      "metadata": {
        "id": "yP2I7uiS1UkC"
      },
      "execution_count": 7,
      "outputs": []
    },
    {
      "cell_type": "code",
      "source": [
        "class G(nn.Module):\n",
        "  def __init__(self):\n",
        "        super().__init__()\n",
        "        self.model = nn.Sequential(\n",
        "\n",
        "            # Преобразование входного шума в тензор 128 каналов 7x7\n",
        "            nn.Linear(100, 128 * 7 * 7),\n",
        "            nn.ReLU(inplace=True),\n",
        "            nn.Unflatten(1, (128, 7, 7)),\n",
        "\n",
        "            # Свёрточный транспонированный слой 1\n",
        "            nn.ConvTranspose2d(128, 64, kernel_size=4, stride=2, padding=1),\n",
        "            nn.BatchNorm2d(64),\n",
        "            nn.ReLU(inplace=True),\n",
        "\n",
        "            # Свёрточный транспонированный слой 2\n",
        "            nn.ConvTranspose2d(64, 1, kernel_size=4, stride=2, padding=1),\n",
        "            nn.Tanh()\n",
        "\n",
        "        )\n",
        "\n",
        "  def forward(self, x):\n",
        "      return self.model(x)"
      ],
      "metadata": {
        "id": "C-Wi9hY92jKK"
      },
      "execution_count": 8,
      "outputs": []
    },
    {
      "cell_type": "code",
      "source": [
        "num_epoch = 50\n",
        "lr = 0.0002\n",
        "loss_function = nn.BCELoss()\n",
        "\n",
        "device = 'cuda' if torch.cuda.is_available() else 'cpu'\n",
        "\n",
        "generator = G().to(device)\n",
        "discriminator = D().to(device)\n",
        "\n",
        "optimizer_d = torch.optim.Adam(discriminator.parameters(),lr=lr)\n",
        "optimizer_g = torch.optim.Adam(generator.parameters(),lr=lr)"
      ],
      "metadata": {
        "id": "b9V0KZmm3Sa6"
      },
      "execution_count": 9,
      "outputs": []
    },
    {
      "cell_type": "code",
      "source": [
        "# Обучение\n",
        "for epoch in range(num_epoch):\n",
        "    for i, (real_samples, _) in enumerate(train_loader):\n",
        "\n",
        "        # Обучение дискриминатора\n",
        "\n",
        "        # Подготовка данных\n",
        "        real_samples = real_samples.to(device)\n",
        "        batch_size = real_samples.size(0)\n",
        "        real_labels = torch.ones((batch_size, 1)).to(device)\n",
        "        generated_labels = torch.zeros((batch_size, 1)).to(device)\n",
        "\n",
        "        # Реальные данные\n",
        "        outputs = discriminator(real_samples)\n",
        "        loss_real = loss_function(outputs, real_labels)\n",
        "\n",
        "        # Сгенерированные данные\n",
        "        noise_samples = torch.randn(batch_size, 100).to(device)\n",
        "        generated_images = generator(noise_samples)\n",
        "        outputs = discriminator(generated_images.detach())\n",
        "        loss_generated = loss_function(outputs, generated_labels)\n",
        "\n",
        "        # Итоговые потери дискриминатора\n",
        "        loss_discriminator = loss_real + loss_generated\n",
        "        optimizer_d.zero_grad()\n",
        "        loss_discriminator.backward()\n",
        "        optimizer_d.step()\n",
        "\n",
        "        # Обучение генератора\n",
        "\n",
        "        noise_samples = torch.randn(batch_size, 100).to(device)\n",
        "        generated_images = generator(noise_samples)\n",
        "        outputs = discriminator(generated_images)\n",
        "        loss_generator = loss_function(outputs, real_labels)\n",
        "        optimizer_g.zero_grad()\n",
        "        loss_generator.backward()\n",
        "        optimizer_g.step()\n",
        "\n",
        "        # Вывод потерь\n",
        "        if i % 469 == 0:\n",
        "          print(f'{epoch} LOSS D: {loss_discriminator}')\n",
        "          print(f'{epoch} LOSS G: {loss_generator}')"
      ],
      "metadata": {
        "colab": {
          "base_uri": "https://localhost:8080/"
        },
        "id": "9uRP_Ej3FQoo",
        "outputId": "06653ac8-c7d8-4621-9227-450706aa8beb"
      },
      "execution_count": 10,
      "outputs": [
        {
          "output_type": "stream",
          "name": "stdout",
          "text": [
            "0 LOSS D: 1.4529199600219727\n",
            "0 LOSS G: 1.1416970491409302\n",
            "1 LOSS D: 0.0006997620221227407\n",
            "1 LOSS G: 10.751520156860352\n",
            "2 LOSS D: 0.08482174575328827\n",
            "2 LOSS G: 6.227238655090332\n",
            "3 LOSS D: 0.023081528022885323\n",
            "3 LOSS G: 5.748475074768066\n",
            "4 LOSS D: 0.07671010494232178\n",
            "4 LOSS G: 6.0322136878967285\n",
            "5 LOSS D: 0.04752707481384277\n",
            "5 LOSS G: 6.162535190582275\n",
            "6 LOSS D: 0.03240444138646126\n",
            "6 LOSS G: 5.392666339874268\n",
            "7 LOSS D: 0.13330909609794617\n",
            "7 LOSS G: 6.619964599609375\n",
            "8 LOSS D: 0.023809947073459625\n",
            "8 LOSS G: 3.471994400024414\n",
            "9 LOSS D: 0.08074983209371567\n",
            "9 LOSS G: 3.846592664718628\n",
            "10 LOSS D: 0.03686632961034775\n",
            "10 LOSS G: 4.032467842102051\n",
            "11 LOSS D: 0.1725359410047531\n",
            "11 LOSS G: 4.462367534637451\n",
            "12 LOSS D: 0.06080387905240059\n",
            "12 LOSS G: 4.279048919677734\n",
            "13 LOSS D: 0.06254427134990692\n",
            "13 LOSS G: 4.94223165512085\n",
            "14 LOSS D: 0.09359882026910782\n",
            "14 LOSS G: 3.2123489379882812\n",
            "15 LOSS D: 0.10716310888528824\n",
            "15 LOSS G: 4.926117897033691\n",
            "16 LOSS D: 0.1376783400774002\n",
            "16 LOSS G: 3.6041622161865234\n",
            "17 LOSS D: 0.15146221220493317\n",
            "17 LOSS G: 4.310511589050293\n",
            "18 LOSS D: 0.031666405498981476\n",
            "18 LOSS G: 5.529905319213867\n",
            "19 LOSS D: 0.06474809348583221\n",
            "19 LOSS G: 6.149165153503418\n",
            "20 LOSS D: 0.14913660287857056\n",
            "20 LOSS G: 4.05210018157959\n",
            "21 LOSS D: 0.1469762623310089\n",
            "21 LOSS G: 4.760320663452148\n",
            "22 LOSS D: 0.40369129180908203\n",
            "22 LOSS G: 2.5939321517944336\n",
            "23 LOSS D: 0.03866760805249214\n",
            "23 LOSS G: 4.8639020919799805\n",
            "24 LOSS D: 0.22925199568271637\n",
            "24 LOSS G: 4.436135292053223\n",
            "25 LOSS D: 0.09615133702754974\n",
            "25 LOSS G: 4.58720588684082\n",
            "26 LOSS D: 0.04094892367720604\n",
            "26 LOSS G: 2.8647987842559814\n",
            "27 LOSS D: 0.09147287905216217\n",
            "27 LOSS G: 6.684504508972168\n",
            "28 LOSS D: 0.06165880709886551\n",
            "28 LOSS G: 7.769374847412109\n",
            "29 LOSS D: 0.04653399437665939\n",
            "29 LOSS G: 4.724963188171387\n",
            "30 LOSS D: 0.07636000216007233\n",
            "30 LOSS G: 4.902972221374512\n",
            "31 LOSS D: 0.07655606418848038\n",
            "31 LOSS G: 5.930996894836426\n",
            "32 LOSS D: 0.23727592825889587\n",
            "32 LOSS G: 6.023822784423828\n",
            "33 LOSS D: 0.059794165194034576\n",
            "33 LOSS G: 5.083683013916016\n",
            "34 LOSS D: 0.09974202513694763\n",
            "34 LOSS G: 3.5665721893310547\n",
            "35 LOSS D: 0.1455707997083664\n",
            "35 LOSS G: 3.8813400268554688\n",
            "36 LOSS D: 0.011062871664762497\n",
            "36 LOSS G: 5.822014808654785\n",
            "37 LOSS D: 0.12476944923400879\n",
            "37 LOSS G: 7.033272743225098\n",
            "38 LOSS D: 0.09806761890649796\n",
            "38 LOSS G: 6.843682289123535\n",
            "39 LOSS D: 0.02781550958752632\n",
            "39 LOSS G: 5.9467878341674805\n",
            "40 LOSS D: 0.02325124479830265\n",
            "40 LOSS G: 3.9636948108673096\n",
            "41 LOSS D: 0.042581707239151\n",
            "41 LOSS G: 5.668339252471924\n",
            "42 LOSS D: 0.029187601059675217\n",
            "42 LOSS G: 4.917017936706543\n",
            "43 LOSS D: 0.011757513508200645\n",
            "43 LOSS G: 3.0922305583953857\n",
            "44 LOSS D: 0.13633909821510315\n",
            "44 LOSS G: 6.696432113647461\n",
            "45 LOSS D: 0.1077415943145752\n",
            "45 LOSS G: 6.72104549407959\n",
            "46 LOSS D: 0.017061643302440643\n",
            "46 LOSS G: 6.757841110229492\n",
            "47 LOSS D: 0.29667186737060547\n",
            "47 LOSS G: 2.440486431121826\n",
            "48 LOSS D: 0.13075321912765503\n",
            "48 LOSS G: 5.928563117980957\n",
            "49 LOSS D: 0.008985056541860104\n",
            "49 LOSS G: 6.647737503051758\n"
          ]
        }
      ]
    },
    {
      "cell_type": "code",
      "source": [
        "noise_samples = torch.randn(batch_size,100).to(device)\n",
        "generated_samples = generator(noise_samples)\n",
        "generated_samples = generated_samples.detach().cpu()\n",
        "\n",
        "for i in range(4):\n",
        "  ax = plt.subplot(4,4,i+1)\n",
        "  plt.imshow(generated_samples[i].reshape(28,28), cmap = 'gray_r')"
      ],
      "metadata": {
        "colab": {
          "base_uri": "https://localhost:8080/",
          "height": 145
        },
        "id": "wrxKqSJLJyfh",
        "outputId": "d1d9f951-f8ea-45ed-c9aa-71d494a2528b"
      },
      "execution_count": 11,
      "outputs": [
        {
          "output_type": "display_data",
          "data": {
            "text/plain": [
              "<Figure size 640x480 with 4 Axes>"
            ],
            "image/png": "[encoded data removed]"
          },
          "metadata": {}
        }
      ]
    },
    {
      "cell_type": "code",
      "source": [
        "class Сlassifier(nn.Module):\n",
        "    def __init__(self):\n",
        "        super().__init__()\n",
        "        self.model = nn.Sequential(\n",
        "\n",
        "            # Первый свёрточный слой: 1 -> 32 канала\n",
        "            nn.Conv2d(1, 32, kernel_size=3, stride=1, padding=1),\n",
        "            nn.ReLU(),\n",
        "            nn.MaxPool2d(kernel_size=2, stride=2),\n",
        "\n",
        "            # Второй свёрточный слой: 32 -> 64 канала\n",
        "            nn.Conv2d(32, 64, kernel_size=3, stride=1, padding=1),\n",
        "            nn.ReLU(),\n",
        "            nn.MaxPool2d(kernel_size=2, stride=2),\n",
        "\n",
        "            #Преобразование в вектор и классификация\n",
        "            nn.Flatten(),\n",
        "            nn.Linear(64 * 7 * 7, 128),\n",
        "            nn.ReLU(),\n",
        "            nn.Linear(128, 10)\n",
        "        )\n",
        "\n",
        "    def forward(self, x):\n",
        "        return self.model(x)"
      ],
      "metadata": {
        "id": "1kAHnyPbJ2dD"
      },
      "execution_count": 12,
      "outputs": []
    },
    {
      "cell_type": "code",
      "source": [
        "# Загрузка реальных и сгенерированных данных для обучения классификатора\n",
        "classifier = Сlassifier().to(device)\n",
        "optimizer = torch.optim.Adam(classifier.parameters(), lr=lr)\n",
        "criterion = nn.CrossEntropyLoss()\n",
        "\n",
        "for epoch in range(num_epoch):\n",
        "    for i, (real_samples, labels) in enumerate(train_loader):\n",
        "        real_samples = real_samples.to(device)\n",
        "        labels = labels.to(device)\n",
        "\n",
        "        # Предсказания и вычисление ошибки\n",
        "        outputs = classifier(real_samples)\n",
        "        loss = criterion(outputs, labels)\n",
        "\n",
        "        # Обновление параметров\n",
        "        optimizer.zero_grad()\n",
        "        loss.backward()\n",
        "        optimizer.step()\n",
        "\n",
        "        # Вывод потерь\n",
        "        if i % 469 == 0:\n",
        "          print(f'{epoch} LOSS D: {loss}')"
      ],
      "metadata": {
        "colab": {
          "base_uri": "https://localhost:8080/"
        },
        "id": "xezlFOz6J-Kn",
        "outputId": "4c679da9-db3e-40ca-8a90-fcadfbaaaa89"
      },
      "execution_count": 13,
      "outputs": [
        {
          "output_type": "stream",
          "name": "stdout",
          "text": [
            "0 LOSS D: 2.2997679710388184\n",
            "1 LOSS D: 0.31809553503990173\n",
            "2 LOSS D: 0.37760719656944275\n",
            "3 LOSS D: 0.31387045979499817\n",
            "4 LOSS D: 0.26570776104927063\n",
            "5 LOSS D: 0.2976268231868744\n",
            "6 LOSS D: 0.2986440062522888\n",
            "7 LOSS D: 0.2796589732170105\n",
            "8 LOSS D: 0.2852807939052582\n",
            "9 LOSS D: 0.2840791940689087\n",
            "10 LOSS D: 0.2647465467453003\n",
            "11 LOSS D: 0.21964164078235626\n",
            "12 LOSS D: 0.16025228798389435\n",
            "13 LOSS D: 0.08178988099098206\n",
            "14 LOSS D: 0.15653319656848907\n",
            "15 LOSS D: 0.16572850942611694\n",
            "16 LOSS D: 0.22042949497699738\n",
            "17 LOSS D: 0.1755257248878479\n",
            "18 LOSS D: 0.2258443385362625\n",
            "19 LOSS D: 0.08822748810052872\n",
            "20 LOSS D: 0.129951611161232\n",
            "21 LOSS D: 0.1362360715866089\n",
            "22 LOSS D: 0.12945711612701416\n",
            "23 LOSS D: 0.19108647108078003\n",
            "24 LOSS D: 0.10997723788022995\n",
            "25 LOSS D: 0.11085367202758789\n",
            "26 LOSS D: 0.07244722545146942\n",
            "27 LOSS D: 0.09233007580041885\n",
            "28 LOSS D: 0.20425134897232056\n",
            "29 LOSS D: 0.08254454284906387\n",
            "30 LOSS D: 0.08183423429727554\n",
            "31 LOSS D: 0.14274843037128448\n",
            "32 LOSS D: 0.08737325668334961\n",
            "33 LOSS D: 0.07560031116008759\n",
            "34 LOSS D: 0.05681878328323364\n",
            "35 LOSS D: 0.08983326703310013\n",
            "36 LOSS D: 0.06862591207027435\n",
            "37 LOSS D: 0.08154984563589096\n",
            "38 LOSS D: 0.05751369148492813\n",
            "39 LOSS D: 0.02869517169892788\n",
            "40 LOSS D: 0.05267498269677162\n",
            "41 LOSS D: 0.09963938593864441\n",
            "42 LOSS D: 0.044905371963977814\n",
            "43 LOSS D: 0.08253397792577744\n",
            "44 LOSS D: 0.03372093290090561\n",
            "45 LOSS D: 0.04361898452043533\n",
            "46 LOSS D: 0.010387537069618702\n",
            "47 LOSS D: 0.03290396183729172\n",
            "48 LOSS D: 0.06681408733129501\n",
            "49 LOSS D: 0.045058004558086395\n"
          ]
        }
      ]
    }
  ]
}