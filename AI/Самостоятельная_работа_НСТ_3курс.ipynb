{
 "cells": [
  {
   "cell_type": "markdown",
   "id": "23f2a794",
   "metadata": {},
   "source": [
    "# Самостоятельная работа \n",
    "## Майнор НСТ\n",
    "### Дедлайн 30.11.2024 23:59\n",
    "### Загрузите работу в форму по ссылке закрепленной в конференции группы майнора "
   ]
  },
  {
   "cell_type": "markdown",
   "id": "cea05a80",
   "metadata": {},
   "source": [
    "# Задание\n",
    "1. Реализайте архитектуру GAN на датасете FashionMNIST, где генератор будет написан на архитектуре сверточной сети\n",
    "2. Реализуйте архитектуру сверточной нейронной сети, которая будет обучена на датасете FashionMNIST, для классификации ваших сгенерированных изображений\n",
    "3. Прокомментировать цикл обучения (дать комментарии кода процесса обучения)"
   ]
  },
  {
   "cell_type": "markdown",
   "id": "b1ecdf9a",
   "metadata": {},
   "source": [
    "# Оценка будет снижена, если\n",
    "1) Архитектура генератора написана без использование сверточных слоев\n",
    "2) Обучение модели написано не для GPU\n",
    "3) Нет никаких комментариев в работе"
   ]
  },
  {
   "cell_type": "markdown",
   "id": "eed6dd4e",
   "metadata": {},
   "source": [
    "# Оценивание\n",
    "### 8 балов за задание(1) и 2 бала за задание(2)\n",
    "\n",
    "### Задание можно выполнить на датасете MNIST\n",
    "### НО, тогда градация балов будет: 5 за задание(1) и 2 за задание(2)"
   ]
  },
  {
   "cell_type": "code",
   "execution_count": null,
   "id": "09658dec",
   "metadata": {},
   "outputs": [],
   "source": []
  }
 ],
 "metadata": {
  "kernelspec": {
   "display_name": "Python 3 (ipykernel)",
   "language": "python",
   "name": "python3"
  },
  "language_info": {
   "codemirror_mode": {
    "name": "ipython",
    "version": 3
   },
   "file_extension": ".py",
   "mimetype": "text/x-python",
   "name": "python",
   "nbconvert_exporter": "python",
   "pygments_lexer": "ipython3",
   "version": "3.11.5"
  }
 },
 "nbformat": 4,
 "nbformat_minor": 5
}
