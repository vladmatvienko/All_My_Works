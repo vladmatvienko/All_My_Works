{
  "nbformat": 4,
  "nbformat_minor": 0,
  "metadata": {
    "colab": {
      "provenance": []
    },
    "kernelspec": {
      "name": "python3",
      "display_name": "Python 3"
    },
    "language_info": {
      "name": "python"
    }
  },
  "cells": [
    {
      "cell_type": "code",
      "execution_count": 2,
      "metadata": {
        "id": "Ce88D0-NLMD-"
      },
      "outputs": [],
      "source": [
        "import numpy as np\n",
        "from numpy.random import randn\n",
        "import math # возможно понадобится\n",
        "\n",
        "class myRNN:\n",
        "\n",
        "    def __init__(self, input_size, output_size, hidden_size):\n",
        "        # Инициализируйте веса. Помните, что между весами должно происходить умножение.\n",
        "        # Вспомните, какие условия накладываются на матрицы. которые умножаются между собой.\n",
        "\n",
        "        self.Whh = randn(hidden_size, hidden_size)\n",
        "        self.Wxh = randn(hidden_size, input_size)\n",
        "        self.Why = randn(output_size, hidden_size)\n",
        "\n",
        "        # Это векторы смещения\n",
        "        self.bh = np.zeros((hidden_size, 1))\n",
        "        self.by = np.zeros((output_size, 1))\n",
        "\n",
        "\n",
        "    def forward(self, inputs):\n",
        "        h = np.zeros((self.Whh.shape[0], 1))\n",
        "        self.last_hs = { 0: h }\n",
        "        last_inputs = inputs # может понадобится вам в backprop, здесь необязательно\n",
        "\n",
        "\n",
        "        # Примените формулу\n",
        "        for i, x in enumerate(inputs):\n",
        "            h = np.tanh(self.Wxh*x+self.Whh*h+self.bh)# Подсчитайте формулу с картинки\n",
        "\n",
        "        y =  self.Why*h+self.by# Подсчитайте формулу с картинки (не забудьте про уже вычисленный h)\n",
        "\n",
        "        return y, h\n",
        "\n",
        "    def backprop(self, d_y, learn_rate):\n",
        "        d_Wxh = (1-h(t)**2)*x# Подсчитайте производную с картинки\n",
        "        d_Whh = (1-h(t)**2)*h(t-1)\n",
        "\n",
        "        self.Wxh -= learn_rate * d_Wxh\n",
        "        self.Whh -= learn_rate * d_Whh"
      ]
    }
  ]
}