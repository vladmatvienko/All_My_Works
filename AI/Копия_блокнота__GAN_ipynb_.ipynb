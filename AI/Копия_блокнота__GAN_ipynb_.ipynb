{
  "nbformat": 4,
  "nbformat_minor": 0,
  "metadata": {
    "colab": {
      "provenance": [],
      "gpuType": "V28"
    },
    "kernelspec": {
      "name": "python3",
      "display_name": "Python 3"
    },
    "language_info": {
      "name": "python"
    },
    "accelerator": "TPU"
  },
  "cells": [
    {
      "cell_type": "code",
      "execution_count": null,
      "metadata": {
        "id": "v24Wk9n1yfXd"
      },
      "outputs": [],
      "source": [
        "import torchvision\n",
        "import torchvision.transforms as transforms\n",
        "import torch\n",
        "import matplotlib.pyplot as plt\n",
        "from torch import nn"
      ]
    },
    {
      "cell_type": "code",
      "source": [
        "torch.manual_seed(123)"
      ],
      "metadata": {
        "colab": {
          "base_uri": "https://localhost:8080/"
        },
        "id": "ggH0OK5bzt_V",
        "outputId": "2df18c64-349f-48df-e890-49df17722618"
      },
      "execution_count": null,
      "outputs": [
        {
          "output_type": "execute_result",
          "data": {
            "text/plain": [
              "<torch._C.Generator at 0x7f4432534090>"
            ]
          },
          "metadata": {},
          "execution_count": 2
        }
      ]
    },
    {
      "cell_type": "code",
      "source": [
        "transform = transforms.Compose([transforms.ToTensor(), transforms.Normalize((0.5,),(0.5,))])"
      ],
      "metadata": {
        "id": "TjdfpuGCz6-8"
      },
      "execution_count": null,
      "outputs": []
    },
    {
      "cell_type": "code",
      "source": [
        "train_set = torchvision.datasets.FashionMNIST(root='./', download = True, train =True, transform = transform)"
      ],
      "metadata": {
        "colab": {
          "base_uri": "https://localhost:8080/"
        },
        "id": "s4wNLOvK0OOF",
        "outputId": "7e519015-e642-46cb-9166-c85420ce37c3"
      },
      "execution_count": null,
      "outputs": [
        {
          "output_type": "stream",
          "name": "stdout",
          "text": [
            "Downloading http://fashion-mnist.s3-website.eu-central-1.amazonaws.com/train-images-idx3-ubyte.gz\n",
            "Downloading http://fashion-mnist.s3-website.eu-central-1.amazonaws.com/train-images-idx3-ubyte.gz to ./FashionMNIST/raw/train-images-idx3-ubyte.gz\n"
          ]
        },
        {
          "output_type": "stream",
          "name": "stderr",
          "text": [
            "100%|██████████| 26.4M/26.4M [00:02<00:00, 12.6MB/s]\n"
          ]
        },
        {
          "output_type": "stream",
          "name": "stdout",
          "text": [
            "Extracting ./FashionMNIST/raw/train-images-idx3-ubyte.gz to ./FashionMNIST/raw\n",
            "\n",
            "Downloading http://fashion-mnist.s3-website.eu-central-1.amazonaws.com/train-labels-idx1-ubyte.gz\n",
            "Downloading http://fashion-mnist.s3-website.eu-central-1.amazonaws.com/train-labels-idx1-ubyte.gz to ./FashionMNIST/raw/train-labels-idx1-ubyte.gz\n"
          ]
        },
        {
          "output_type": "stream",
          "name": "stderr",
          "text": [
            "100%|██████████| 29.5k/29.5k [00:00<00:00, 198kB/s]\n"
          ]
        },
        {
          "output_type": "stream",
          "name": "stdout",
          "text": [
            "Extracting ./FashionMNIST/raw/train-labels-idx1-ubyte.gz to ./FashionMNIST/raw\n",
            "\n",
            "Downloading http://fashion-mnist.s3-website.eu-central-1.amazonaws.com/t10k-images-idx3-ubyte.gz\n",
            "Downloading http://fashion-mnist.s3-website.eu-central-1.amazonaws.com/t10k-images-idx3-ubyte.gz to ./FashionMNIST/raw/t10k-images-idx3-ubyte.gz\n"
          ]
        },
        {
          "output_type": "stream",
          "name": "stderr",
          "text": [
            "100%|██████████| 4.42M/4.42M [00:01<00:00, 3.73MB/s]\n"
          ]
        },
        {
          "output_type": "stream",
          "name": "stdout",
          "text": [
            "Extracting ./FashionMNIST/raw/t10k-images-idx3-ubyte.gz to ./FashionMNIST/raw\n",
            "\n",
            "Downloading http://fashion-mnist.s3-website.eu-central-1.amazonaws.com/t10k-labels-idx1-ubyte.gz\n",
            "Downloading http://fashion-mnist.s3-website.eu-central-1.amazonaws.com/t10k-labels-idx1-ubyte.gz to ./FashionMNIST/raw/t10k-labels-idx1-ubyte.gz\n"
          ]
        },
        {
          "output_type": "stream",
          "name": "stderr",
          "text": [
            "100%|██████████| 5.15k/5.15k [00:00<00:00, 6.10MB/s]"
          ]
        },
        {
          "output_type": "stream",
          "name": "stdout",
          "text": [
            "Extracting ./FashionMNIST/raw/t10k-labels-idx1-ubyte.gz to ./FashionMNIST/raw\n",
            "\n"
          ]
        },
        {
          "output_type": "stream",
          "name": "stderr",
          "text": [
            "\n"
          ]
        }
      ]
    },
    {
      "cell_type": "code",
      "source": [
        "batch_size = 128\n",
        "train_loader = torch.utils.data.DataLoader(train_set,batch_size = batch_size, shuffle = True)"
      ],
      "metadata": {
        "id": "d7MMHtzj0hDi"
      },
      "execution_count": null,
      "outputs": []
    },
    {
      "cell_type": "code",
      "source": [
        "real_samples, labels = next(iter(train_loader))\n",
        "\n",
        "for i in range(4):\n",
        "  ax = plt.subplot(4,4,i+1)\n",
        "  plt.imshow(real_samples[i].reshape(28,28), cmap = 'gray_r')"
      ],
      "metadata": {
        "colab": {
          "base_uri": "https://localhost:8080/",
          "height": 145
        },
        "id": "mJJKuV501CRH",
        "outputId": "4d4288f1-d306-4ea4-994b-a7c394f6cfdb"
      },
      "execution_count": null,
      "outputs": [
        {
          "output_type": "display_data",
          "data": {
            "text/plain": [
              "<Figure size 640x480 with 4 Axes>"
            ],
            "image/png": "[encoded data removed]"
          },
          "metadata": {}
        }
      ]
    },
    {
      "cell_type": "code",
      "source": [
        "class D(nn.Module):\n",
        "  def __init__(self):\n",
        "        super().__init__()\n",
        "        self.model = nn.Sequential(\n",
        "\n",
        "            # Первый свёрточный слой: 1 -> 64 канала\n",
        "            nn.Conv2d(1, 64, kernel_size=4, stride=2, padding=1),\n",
        "            nn.LeakyReLU(0.2, inplace=True),\n",
        "\n",
        "            # Второй свёрточный слой: 64 -> 128 канала\n",
        "            nn.Conv2d(64, 128, kernel_size=4, stride=2, padding=1),\n",
        "            nn.BatchNorm2d(128),\n",
        "            nn.LeakyReLU(0.2, inplace=True),\n",
        "\n",
        "            # Третий свёрточный слой: 128 -> 256 канала\n",
        "            nn.Conv2d(128, 256, kernel_size=4, stride=2, padding=1),\n",
        "            nn.BatchNorm2d(256),\n",
        "            nn.LeakyReLU(0.2, inplace=True),\n",
        "\n",
        "            # Преобразование в вектор и классификация\n",
        "            nn.Flatten(),\n",
        "            nn.Linear(256 * 3 * 3, 1),\n",
        "            nn.Sigmoid()\n",
        "\n",
        "        )\n",
        "\n",
        "  def forward(self, x):\n",
        "      return self.model(x)"
      ],
      "metadata": {
        "id": "yP2I7uiS1UkC"
      },
      "execution_count": null,
      "outputs": []
    },
    {
      "cell_type": "code",
      "source": [
        "class G(nn.Module):\n",
        "  def __init__(self):\n",
        "        super().__init__()\n",
        "        self.model = nn.Sequential(\n",
        "\n",
        "            # Преобразование входного шума в тензор 128 каналов 7x7\n",
        "            nn.Linear(100, 128 * 7 * 7),\n",
        "            nn.ReLU(inplace=True),\n",
        "            nn.Unflatten(1, (128, 7, 7)),\n",
        "\n",
        "            # Свёрточный транспонированный слой 1\n",
        "            nn.ConvTranspose2d(128, 64, kernel_size=4, stride=2, padding=1),\n",
        "            nn.BatchNorm2d(64),\n",
        "            nn.ReLU(inplace=True),\n",
        "\n",
        "            # Свёрточный транспонированный слой 2\n",
        "            nn.ConvTranspose2d(64, 1, kernel_size=4, stride=2, padding=1),\n",
        "            nn.Tanh()\n",
        "\n",
        "        )\n",
        "\n",
        "  def forward(self, x):\n",
        "      return self.model(x)"
      ],
      "metadata": {
        "id": "C-Wi9hY92jKK"
      },
      "execution_count": null,
      "outputs": []
    },
    {
      "cell_type": "code",
      "source": [
        "num_epoch = 50\n",
        "lr = 0.0002\n",
        "loss_function = nn.BCELoss()\n",
        "\n",
        "device = 'cuda' if torch.cuda.is_available() else 'cpu'\n",
        "\n",
        "generator = G().to(device)\n",
        "discriminator = D().to(device)\n",
        "\n",
        "optimizer_d = torch.optim.Adam(discriminator.parameters(),lr=lr)\n",
        "optimizer_g = torch.optim.Adam(generator.parameters(),lr=lr)"
      ],
      "metadata": {
        "id": "b9V0KZmm3Sa6"
      },
      "execution_count": null,
      "outputs": []
    },
    {
      "cell_type": "code",
      "source": [
        "# Обучение\n",
        "for epoch in range(num_epoch):\n",
        "    for i, (real_samples, _) in enumerate(train_loader):\n",
        "\n",
        "        # Обучение дискриминатора\n",
        "\n",
        "        # Подготовка данных\n",
        "        real_samples = real_samples.to(device)\n",
        "        batch_size = real_samples.size(0)\n",
        "        real_labels = torch.ones((batch_size, 1)).to(device)\n",
        "        generated_labels = torch.zeros((batch_size, 1)).to(device)\n",
        "\n",
        "        # Реальные данные\n",
        "        outputs = discriminator(real_samples)\n",
        "        loss_real = loss_function(outputs, real_labels)\n",
        "\n",
        "        # Сгенерированные данные\n",
        "        noise_samples = torch.randn(batch_size, 100).to(device)\n",
        "        generated_images = generator(noise_samples)\n",
        "        outputs = discriminator(generated_images.detach())\n",
        "        loss_generated = loss_function(outputs, generated_labels)\n",
        "\n",
        "        # Итоговые потери дискриминатора\n",
        "        loss_discriminator = loss_real + loss_generated\n",
        "        optimizer_d.zero_grad()\n",
        "        loss_discriminator.backward()\n",
        "        optimizer_d.step()\n",
        "\n",
        "        # Обучение генератора\n",
        "\n",
        "        noise_samples = torch.randn(batch_size, 100).to(device)\n",
        "        generated_images = generator(noise_samples)\n",
        "        outputs = discriminator(generated_images)\n",
        "        loss_generator = loss_function(outputs, real_labels)\n",
        "        optimizer_g.zero_grad()\n",
        "        loss_generator.backward()\n",
        "        optimizer_g.step()\n",
        "\n",
        "        # Вывод потерь\n",
        "        if i % 469 == 0:\n",
        "          print(f'{epoch} LOSS D: {loss_discriminator}')\n",
        "          print(f'{epoch} LOSS G: {loss_generator}')"
      ],
      "metadata": {
        "colab": {
          "base_uri": "https://localhost:8080/"
        },
        "id": "9uRP_Ej3FQoo",
        "outputId": "0c214b75-b33a-466a-8a69-fe58d45e6f82"
      },
      "execution_count": null,
      "outputs": [
        {
          "output_type": "stream",
          "name": "stdout",
          "text": [
            "0 LOSS D: 0.054648257791996\n",
            "0 LOSS G: 5.774075508117676\n",
            "1 LOSS D: 0.0440070740878582\n",
            "1 LOSS G: 5.606814384460449\n",
            "2 LOSS D: 0.15139831602573395\n",
            "2 LOSS G: 4.37944221496582\n",
            "3 LOSS D: 0.16348090767860413\n",
            "3 LOSS G: 7.333256721496582\n",
            "4 LOSS D: 0.08347051590681076\n",
            "4 LOSS G: 4.68574333190918\n",
            "5 LOSS D: 0.071296326816082\n",
            "5 LOSS G: 4.289815902709961\n",
            "6 LOSS D: 0.10101322084665298\n",
            "6 LOSS G: 3.814018487930298\n",
            "7 LOSS D: 0.06382978707551956\n",
            "7 LOSS G: 5.159824371337891\n",
            "8 LOSS D: 0.21367838978767395\n",
            "8 LOSS G: 6.697989463806152\n",
            "9 LOSS D: 0.09132051467895508\n",
            "9 LOSS G: 4.782288551330566\n",
            "10 LOSS D: 0.05268175154924393\n",
            "10 LOSS G: 4.958168029785156\n",
            "11 LOSS D: 0.1294090747833252\n",
            "11 LOSS G: 5.353189468383789\n",
            "12 LOSS D: 0.08495541661977768\n",
            "12 LOSS G: 5.078154563903809\n",
            "13 LOSS D: 0.10139354318380356\n",
            "13 LOSS G: 3.23687744140625\n",
            "14 LOSS D: 0.16454437375068665\n",
            "14 LOSS G: 5.883917331695557\n",
            "15 LOSS D: 0.10904762893915176\n",
            "15 LOSS G: 3.0470757484436035\n",
            "16 LOSS D: 0.37284696102142334\n",
            "16 LOSS G: 2.872133255004883\n",
            "17 LOSS D: 0.06676545739173889\n",
            "17 LOSS G: 4.630043983459473\n",
            "18 LOSS D: 0.06431073695421219\n",
            "18 LOSS G: 4.553295135498047\n",
            "19 LOSS D: 0.11614660918712616\n",
            "19 LOSS G: 4.635510444641113\n",
            "20 LOSS D: 0.1707993745803833\n",
            "20 LOSS G: 3.7955732345581055\n",
            "21 LOSS D: 0.11747319251298904\n",
            "21 LOSS G: 4.423572540283203\n",
            "22 LOSS D: 0.0467357262969017\n",
            "22 LOSS G: 5.26535701751709\n",
            "23 LOSS D: 0.08759332448244095\n",
            "23 LOSS G: 3.8593344688415527\n",
            "24 LOSS D: 0.20152366161346436\n",
            "24 LOSS G: 4.986223220825195\n",
            "25 LOSS D: 0.035078197717666626\n",
            "25 LOSS G: 5.622644901275635\n",
            "26 LOSS D: 0.04631074517965317\n",
            "26 LOSS G: 5.583426475524902\n",
            "27 LOSS D: 0.05412353575229645\n",
            "27 LOSS G: 3.7988734245300293\n",
            "28 LOSS D: 0.06169460341334343\n",
            "28 LOSS G: 4.234338760375977\n",
            "29 LOSS D: 0.16677220165729523\n",
            "29 LOSS G: 5.5389909744262695\n",
            "30 LOSS D: 0.06672731041908264\n",
            "30 LOSS G: 3.8981235027313232\n",
            "31 LOSS D: 0.06717143207788467\n",
            "31 LOSS G: 4.716803550720215\n",
            "32 LOSS D: 0.3865136504173279\n",
            "32 LOSS G: 5.046576499938965\n",
            "33 LOSS D: 0.03006349690258503\n",
            "33 LOSS G: 7.895452976226807\n",
            "34 LOSS D: 0.08860792219638824\n",
            "34 LOSS G: 1.2135710716247559\n",
            "35 LOSS D: 0.03343309462070465\n",
            "35 LOSS G: 5.367824554443359\n",
            "36 LOSS D: 0.19592367112636566\n",
            "36 LOSS G: 6.677029609680176\n",
            "37 LOSS D: 0.09662602841854095\n",
            "37 LOSS G: 3.4879095554351807\n",
            "38 LOSS D: 0.14079666137695312\n",
            "38 LOSS G: 6.045499801635742\n",
            "39 LOSS D: 0.04515397548675537\n",
            "39 LOSS G: 4.951054573059082\n",
            "40 LOSS D: 0.10323293507099152\n",
            "40 LOSS G: 6.613711357116699\n",
            "41 LOSS D: 0.07557530701160431\n",
            "41 LOSS G: 4.166301250457764\n",
            "42 LOSS D: 0.016368824988603592\n",
            "42 LOSS G: 4.482441425323486\n",
            "43 LOSS D: 0.05122296139597893\n",
            "43 LOSS G: 6.477729320526123\n",
            "44 LOSS D: 0.07344913482666016\n",
            "44 LOSS G: 6.6039276123046875\n",
            "45 LOSS D: 0.03603728860616684\n",
            "45 LOSS G: 7.633491516113281\n",
            "46 LOSS D: 0.014661390334367752\n",
            "46 LOSS G: 4.305690765380859\n",
            "47 LOSS D: 0.06169547885656357\n",
            "47 LOSS G: 6.075055122375488\n",
            "48 LOSS D: 0.10447410494089127\n",
            "48 LOSS G: 4.457229137420654\n",
            "49 LOSS D: 0.03709487244486809\n",
            "49 LOSS G: 4.968570232391357\n"
          ]
        }
      ]
    },
    {
      "cell_type": "code",
      "source": [
        "noise_samples = torch.randn(batch_size,100).to(device)\n",
        "generated_samples = generator(noise_samples)\n",
        "generated_samples = generated_samples.detach().cpu()\n",
        "\n",
        "for i in range(4):\n",
        "  ax = plt.subplot(4,4,i+1)\n",
        "  plt.imshow(generated_samples[i].reshape(28,28), cmap = 'gray_r')"
      ],
      "metadata": {
        "colab": {
          "base_uri": "https://localhost:8080/",
          "height": 145
        },
        "id": "wrxKqSJLJyfh",
        "outputId": "2bbaab54-47c0-4f04-8d23-bebf18af5d77"
      },
      "execution_count": null,
      "outputs": [
        {
          "output_type": "display_data",
          "data": {
            "text/plain": [
              "<Figure size 640x480 with 4 Axes>"
            ],
            "image/png": "[encoded data removed]"
          },
          "metadata": {}
        }
      ]
    },
    {
      "cell_type": "code",
      "source": [
        "class Сlassifier(nn.Module):\n",
        "    def __init__(self):\n",
        "        super().__init__()\n",
        "        self.model = nn.Sequential(\n",
        "\n",
        "            # Первый свёрточный слой: 1 -> 32 канала\n",
        "            nn.Conv2d(1, 32, kernel_size=3, stride=1, padding=1),\n",
        "            nn.ReLU(),\n",
        "            nn.MaxPool2d(kernel_size=2, stride=2),\n",
        "\n",
        "            # Второй свёрточный слой: 32 -> 64 канала\n",
        "            nn.Conv2d(32, 64, kernel_size=3, stride=1, padding=1),\n",
        "            nn.ReLU(),\n",
        "            nn.MaxPool2d(kernel_size=2, stride=2),\n",
        "\n",
        "            #Преобразование в вектор и классификация\n",
        "            nn.Flatten(),\n",
        "            nn.Linear(64 * 7 * 7, 128),\n",
        "            nn.ReLU(),\n",
        "            nn.Linear(128, 10)\n",
        "        )\n",
        "\n",
        "    def forward(self, x):\n",
        "        return self.model(x)"
      ],
      "metadata": {
        "id": "1kAHnyPbJ2dD"
      },
      "execution_count": null,
      "outputs": []
    },
    {
      "cell_type": "code",
      "source": [
        "# Загрузка реальных и сгенерированных данных для обучения классификатора\n",
        "classifier = Сlassifier().to(device)\n",
        "optimizer = torch.optim.Adam(classifier.parameters(), lr=lr)\n",
        "criterion = nn.CrossEntropyLoss()\n",
        "\n",
        "for epoch in range(num_epoch):\n",
        "    for i, (real_samples, labels) in enumerate(train_loader):\n",
        "        real_samples = real_samples.to(device)\n",
        "        labels = labels.to(device)\n",
        "\n",
        "        # Предсказания и вычисление ошибки\n",
        "        outputs = classifier(real_samples)\n",
        "        loss = criterion(outputs, labels)\n",
        "\n",
        "        # Обновление параметров\n",
        "        optimizer.zero_grad()\n",
        "        loss.backward()\n",
        "        optimizer.step()\n",
        "\n",
        "        # Вывод потерь\n",
        "        if i % 469 == 0:\n",
        "          print(f'{epoch} LOSS D: {loss}')"
      ],
      "metadata": {
        "colab": {
          "base_uri": "https://localhost:8080/"
        },
        "id": "xezlFOz6J-Kn",
        "outputId": "13911427-1710-4563-a2bd-aa290765eed4"
      },
      "execution_count": null,
      "outputs": [
        {
          "output_type": "stream",
          "name": "stdout",
          "text": [
            "0 LOSS D: 2.3046340942382812\n",
            "1 LOSS D: 0.5420120358467102\n",
            "2 LOSS D: 0.46269017457962036\n",
            "3 LOSS D: 0.3612482249736786\n",
            "4 LOSS D: 0.340904176235199\n",
            "5 LOSS D: 0.38242775201797485\n",
            "6 LOSS D: 0.29457157850265503\n"
          ]
        }
      ]
    },
    {
      "cell_type": "code",
      "source": [
        "# Тестирование классификатора на сгенерированных изображениях\n",
        "\n",
        "# Генерация тестовых данных\n",
        "noise_samples = torch.randn(100, 100).to(device)  # 100 тестовых изображений\n",
        "generated_samples = generator(noise_samples)\n",
        "generated_samples = generated_samples.detach().cpu()\n",
        "\n",
        "# Предсказания классификатора для сгенерированных изображений\n",
        "classifier.eval()  # Перевод классификатора в режим оценки\n",
        "with torch.no_grad():\n",
        "    outputs = classifier(generated_samples.to(device))\n",
        "    _, predicted = torch.max(outputs, 1)\n",
        "\n",
        "# Вывод предсказаний\n",
        "print(\"Предсказанные классы для сгенерированных изображений:\")\n",
        "predicted\n"
      ],
      "metadata": {
        "id": "EdRL5FNUQGGu"
      },
      "execution_count": null,
      "outputs": []
    }
  ]
}